{
 "cells": [
  {
   "cell_type": "markdown",
   "metadata": {},
   "source": [
    "# Instructions\n",
    "\n",
    "-------Take series of N data - S\n",
    "\n",
    "Shuffle using shuffling function\n",
    "\n",
    "Take the first data (ex - D45) - S1\n",
    "\n",
    "Take second data (ex - D34)\n",
    "\n",
    "Toss (random 0/1) 0=left, 1 right (ex -0)\n",
    "\n",
    "Place second data based on toss- S2 - (D34, D45)\n",
    "\n",
    "Take third data (ex - D23)\n",
    "\n",
    "Toss (random 0/1) 0=left, 1 right (ex - 0)\n",
    "\n",
    "Shuffle S2, take first data (ex - D45)\n",
    "\n",
    "Place based on toss in S2 - (D34, D23, D45) = S3 \n",
    "\n",
    "Take 4th data (ex - D12)\n",
    "\n",
    "Toss (random 0/1) 0=left, 1 right (ex - 1)\n",
    "\n",
    "Shuffle S3, take first data (ex - D23)\n",
    "\n",
    "Place based on toss in S3 - (D34, D23, D12, D45) = S4 \n",
    "\n",
    "Take 5th data (ex - D39)\n",
    "\n",
    "Toss (random 0/1) 0=left, 1 right (ex - 0)\n",
    "\n",
    "Shuffle S4, take first data (ex - D45)\n",
    "\n",
    "Place based on toss in S4 - (D34, D23, D12, D39, D45) = S5 \n",
    "\n",
    "Repeat N times"
   ]
  },
  {
   "cell_type": "markdown",
   "metadata": {},
   "source": [
    "### Import Libraries and Initialize the series"
   ]
  },
  {
   "cell_type": "code",
   "execution_count": 51,
   "metadata": {},
   "outputs": [
    {
     "data": {
      "text/plain": [
       "['D1',\n",
       " 'D2',\n",
       " 'D3',\n",
       " 'D4',\n",
       " 'D5',\n",
       " 'D6',\n",
       " 'D7',\n",
       " 'D8',\n",
       " 'D9',\n",
       " 'D10',\n",
       " 'D11',\n",
       " 'D12',\n",
       " 'D13',\n",
       " 'D14',\n",
       " 'D15',\n",
       " 'D16',\n",
       " 'D17',\n",
       " 'D18',\n",
       " 'D19',\n",
       " 'D20']"
      ]
     },
     "execution_count": 51,
     "metadata": {},
     "output_type": "execute_result"
    }
   ],
   "source": [
    "import random\n",
    "from shuffle.functions import python_shuffle, api_suffle, insert_item, final_shuffle\n",
    "\n",
    "S = [f'D{i}' for i in range(1, 21)]\n",
    "S"
   ]
  },
  {
   "cell_type": "markdown",
   "metadata": {},
   "source": [
    "### Shuffle the series"
   ]
  },
  {
   "cell_type": "code",
   "execution_count": 52,
   "metadata": {},
   "outputs": [
    {
     "data": {
      "text/plain": [
       "['D9',\n",
       " 'D1',\n",
       " 'D4',\n",
       " 'D6',\n",
       " 'D5',\n",
       " 'D13',\n",
       " 'D8',\n",
       " 'D16',\n",
       " 'D15',\n",
       " 'D19',\n",
       " 'D2',\n",
       " 'D10',\n",
       " 'D18',\n",
       " 'D3',\n",
       " 'D12',\n",
       " 'D11',\n",
       " 'D20',\n",
       " 'D14',\n",
       " 'D17',\n",
       " 'D7']"
      ]
     },
     "execution_count": 52,
     "metadata": {},
     "output_type": "execute_result"
    }
   ],
   "source": [
    "\n",
    "\n",
    "\n",
    "shuffled_data = python_shuffle(S)\n",
    "shuffled_data"
   ]
  },
  {
   "cell_type": "markdown",
   "metadata": {},
   "source": [
    "Insert the first data into the result to make S1"
   ]
  },
  {
   "cell_type": "code",
   "execution_count": 53,
   "metadata": {},
   "outputs": [
    {
     "name": "stdout",
     "output_type": "stream",
     "text": [
      "S1 = ['D9']\n"
     ]
    }
   ],
   "source": [
    "res = [shuffled_data[0]]\n",
    "print(f\"S1 = {res}\")"
   ]
  },
  {
   "cell_type": "markdown",
   "metadata": {},
   "source": [
    "Insert the next four items according to the rule for better understanding  \n",
    "And make S5\n"
   ]
  },
  {
   "cell_type": "code",
   "execution_count": 54,
   "metadata": {},
   "outputs": [
    {
     "name": "stdout",
     "output_type": "stream",
     "text": [
      "S5 = ['D1', 'D9', 'D5', 'D6', 'D4']\n"
     ]
    }
   ],
   "source": [
    "for i in range(1, 5):\n",
    "    insert_item(res, shuffled_data[i])\n",
    "    \n",
    "print(f\"S5 = {res}\")"
   ]
  },
  {
   "cell_type": "markdown",
   "metadata": {},
   "source": [
    "### Demonstrate the process of inserting the sixth data\n",
    "\n",
    "First find the sixth data"
   ]
  },
  {
   "cell_type": "code",
   "execution_count": 55,
   "metadata": {},
   "outputs": [
    {
     "data": {
      "text/plain": [
       "'D13'"
      ]
     },
     "execution_count": 55,
     "metadata": {},
     "output_type": "execute_result"
    }
   ],
   "source": [
    "# find the sixth data\n",
    "sixth = shuffled_data[5]\n",
    "sixth"
   ]
  },
  {
   "cell_type": "markdown",
   "metadata": {},
   "source": [
    "### Toss left or right\n",
    "\n",
    "0 - left  \n",
    "1 - right"
   ]
  },
  {
   "cell_type": "code",
   "execution_count": 58,
   "metadata": {},
   "outputs": [
    {
     "data": {
      "text/plain": [
       "0"
      ]
     },
     "execution_count": 58,
     "metadata": {},
     "output_type": "execute_result"
    }
   ],
   "source": [
    "# Toss(0/1) 0 = left, 1 = right\n",
    "toss = random.choice([0, 1])\n",
    "toss"
   ]
  },
  {
   "cell_type": "markdown",
   "metadata": {},
   "source": [
    "### Find the element to insert before or after\n",
    "\n",
    "First shuffle S5 and pick the first value"
   ]
  },
  {
   "cell_type": "code",
   "execution_count": 60,
   "metadata": {},
   "outputs": [
    {
     "name": "stdout",
     "output_type": "stream",
     "text": [
      "S5:                  ['D1', 'D9', 'D5', 'D6', 'D4']\n",
      "\n",
      "shuffled S5:    ['D1', 'D6', 'D4', 'D9', 'D5']\n"
     ]
    },
    {
     "data": {
      "text/plain": [
       "'D1'"
      ]
     },
     "execution_count": 60,
     "metadata": {},
     "output_type": "execute_result"
    }
   ],
   "source": [
    "S_shuffled = python_shuffle(res)\n",
    "first = S_shuffled[0]\n",
    "\n",
    "print(f\"S5:                  {res}\")\n",
    "print(\"\")\n",
    "print(f\"shuffled S5:    {S_shuffled}\")\n",
    "first"
   ]
  },
  {
   "cell_type": "markdown",
   "metadata": {},
   "source": [
    "### Insert the item in the correct position"
   ]
  },
  {
   "cell_type": "code",
   "execution_count": 61,
   "metadata": {},
   "outputs": [
    {
     "data": {
      "text/plain": [
       "['D13', 'D1', 'D9', 'D5', 'D6', 'D4']"
      ]
     },
     "execution_count": 61,
     "metadata": {},
     "output_type": "execute_result"
    }
   ],
   "source": [
    "# find index\n",
    "pos = res.index(first) + toss\n",
    "\n",
    "#insert the data\n",
    "res.insert(pos, sixth)\n",
    "res"
   ]
  },
  {
   "cell_type": "markdown",
   "metadata": {},
   "source": [
    "### Demonstrate the process of inserting the seventh data\n",
    "\n",
    "First find the seventh data"
   ]
  },
  {
   "cell_type": "code",
   "execution_count": 62,
   "metadata": {},
   "outputs": [
    {
     "data": {
      "text/plain": [
       "'D8'"
      ]
     },
     "execution_count": 62,
     "metadata": {},
     "output_type": "execute_result"
    }
   ],
   "source": [
    "# find the sixth data\n",
    "seventh = shuffled_data[6]\n",
    "seventh"
   ]
  },
  {
   "cell_type": "markdown",
   "metadata": {},
   "source": [
    "### Toss left or right\n",
    "\n",
    "0 - left  \n",
    "1 - right"
   ]
  },
  {
   "cell_type": "code",
   "execution_count": 63,
   "metadata": {},
   "outputs": [
    {
     "data": {
      "text/plain": [
       "0"
      ]
     },
     "execution_count": 63,
     "metadata": {},
     "output_type": "execute_result"
    }
   ],
   "source": [
    "# Toss(0/1) 0 = left, 1 = right\n",
    "toss = random.choice([0, 1])\n",
    "toss"
   ]
  },
  {
   "cell_type": "code",
   "execution_count": 66,
   "metadata": {},
   "outputs": [
    {
     "name": "stdout",
     "output_type": "stream",
     "text": [
      "S6:                  ['D13', 'D1', 'D9', 'D5', 'D6', 'D4']\n",
      "\n",
      "shuffled S6:    ['D9', 'D4', 'D13', 'D5', 'D1', 'D6']\n"
     ]
    },
    {
     "data": {
      "text/plain": [
       "'D9'"
      ]
     },
     "execution_count": 66,
     "metadata": {},
     "output_type": "execute_result"
    }
   ],
   "source": [
    "S_shuffled = python_shuffle(res)\n",
    "first = S_shuffled[0]\n",
    "\n",
    "print(f\"S6:                  {res}\")\n",
    "print(\"\")\n",
    "print(f\"shuffled S6:    {S_shuffled}\")\n",
    "first"
   ]
  },
  {
   "cell_type": "code",
   "execution_count": 67,
   "metadata": {},
   "outputs": [
    {
     "data": {
      "text/plain": [
       "['D13', 'D1', 'D8', 'D9', 'D5', 'D6', 'D4']"
      ]
     },
     "execution_count": 67,
     "metadata": {},
     "output_type": "execute_result"
    }
   ],
   "source": [
    "# find index\n",
    "pos = res.index(first) + toss\n",
    "\n",
    "#insert the data\n",
    "res.insert(pos, seventh)\n",
    "res"
   ]
  },
  {
   "cell_type": "markdown",
   "metadata": {},
   "source": [
    "### Continue inserting the remaining elements"
   ]
  },
  {
   "cell_type": "code",
   "execution_count": 68,
   "metadata": {},
   "outputs": [
    {
     "data": {
      "text/plain": [
       "['D13',\n",
       " 'D1',\n",
       " 'D8',\n",
       " 'D9',\n",
       " 'D7',\n",
       " 'D2',\n",
       " 'D5',\n",
       " 'D12',\n",
       " 'D10',\n",
       " 'D17',\n",
       " 'D3',\n",
       " 'D11',\n",
       " 'D16',\n",
       " 'D6',\n",
       " 'D15',\n",
       " 'D4',\n",
       " 'D18',\n",
       " 'D19',\n",
       " 'D14',\n",
       " 'D20']"
      ]
     },
     "execution_count": 68,
     "metadata": {},
     "output_type": "execute_result"
    }
   ],
   "source": [
    "for i in range(7, len(shuffled_data)):\n",
    "    insert_item(res, shuffled_data[i])\n",
    "    \n",
    "res"
   ]
  },
  {
   "cell_type": "markdown",
   "metadata": {},
   "source": [
    "### Call the function to do the entire process"
   ]
  },
  {
   "cell_type": "code",
   "execution_count": 69,
   "metadata": {},
   "outputs": [
    {
     "data": {
      "text/plain": [
       "['D5',\n",
       " 'D4',\n",
       " 'D20',\n",
       " 'D3',\n",
       " 'D9',\n",
       " 'D6',\n",
       " 'D12',\n",
       " 'D17',\n",
       " 'D16',\n",
       " 'D8',\n",
       " 'D7',\n",
       " 'D1',\n",
       " 'D19',\n",
       " 'D14',\n",
       " 'D15',\n",
       " 'D13',\n",
       " 'D18',\n",
       " 'D10',\n",
       " 'D11',\n",
       " 'D2']"
      ]
     },
     "execution_count": 69,
     "metadata": {},
     "output_type": "execute_result"
    }
   ],
   "source": [
    "final_result = final_shuffle(S)\n",
    "final_result"
   ]
  },
  {
   "cell_type": "code",
   "execution_count": null,
   "metadata": {},
   "outputs": [],
   "source": []
  }
 ],
 "metadata": {
  "kernelspec": {
   "display_name": "venv",
   "language": "python",
   "name": "python3"
  },
  "language_info": {
   "codemirror_mode": {
    "name": "ipython",
    "version": 3
   },
   "file_extension": ".py",
   "mimetype": "text/x-python",
   "name": "python",
   "nbconvert_exporter": "python",
   "pygments_lexer": "ipython3",
   "version": "3.12.1"
  }
 },
 "nbformat": 4,
 "nbformat_minor": 2
}
